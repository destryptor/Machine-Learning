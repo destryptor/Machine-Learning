{
 "cells": [
  {
   "cell_type": "markdown",
   "metadata": {
    "id": "emjAQ_34SozP",
    "tags": []
   },
   "source": [
    "# Programming Assignment 1"
   ]
  },
  {
   "cell_type": "markdown",
   "metadata": {
    "id": "tKkKCHwsSozQ"
   },
   "source": [
    "In this programming assignment, you will implement a linear regression model and a logistic regression model.\n",
    "\n",
    "In Part 1, you have to implement a linear regression model to predict the price of a house based on various input features.\n",
    "\n",
    "In Part 2, you have to implement a logistic regression model to predict the species of a grain using various morphological features.\n",
    "\n",
    "The assignment zip file (ML_Assignment_1.zip) contains 4 datasets which will be used in this assignment.\n",
    "\n",
    "You have to write your code in this jupyter notebook and submit the solved jupyter notebook with the file name \\<Roll_No\\>_A1.ipynb for evaluation. You have to enter your code only in those cells which are marked as ```## CODE REQUIRED ##```, and you have to write your code only between ```### START CODE HERE ###``` and ```### END CODE HERE ###``` comments."
   ]
  },
  {
   "cell_type": "markdown",
   "metadata": {
    "id": "jHPf8pHpSozR"
   },
   "source": [
    "## Part 1: Linear Regression\n",
    "\n",
    "### Problem Statement  \n",
    "A real estate company is building a machine learning model to determine the price of a house. The model will take various information regarding a house as input features and predict the price per unit area. They decided to use the linear regression as the machine learning model. Your task is to help the company to build the model.\n",
    "Given various features of a house, you will create a linear regression model to predict the price of the house.\n",
    "\n",
    "### Data Description\n",
    "\n",
    "**For Even Roll Number Students:**\n",
    "\n",
    "Dataset Filename: Taiwan_House.csv\n",
    "\n",
    "Attributes Information:\n",
    "1. Transaction date\n",
    "2. House age\n",
    "3. Distance to the nearest MRT station\n",
    "4. Number of convenience stores\n",
    "5. Latitude\n",
    "6. Longitude\n",
    "\n",
    "Target variable: house price of unit area\n",
    "\n",
    "**For Odd Roll Number Students:**\n",
    "\n",
    "Dataset Filename: Boston_House.csv\n",
    "\n",
    "Attributes Information:\n",
    "1. CRIM: per capita crime rate by town\n",
    "2. ZN: proportion of residential land zoned for lots over 25,000 sq.ft.\n",
    "3. INDUS: proportion of non-­retail business acres per town\n",
    "4. CHAS: Charles River dummy variable (= 1 if tract bounds river; 0 otherwise)\n",
    "5. NOX: nitric oxides concentration (parts per 10 million)\n",
    "6. RM: average number of rooms per dwelling\n",
    "7. AGE: proportion of owner­occupied units built prior to 1940\n",
    "8. DIS: weighted distances to five Boston employment centres\n",
    "9. RAD: index of accessibility to radial highways\n",
    "10. TAX: full-­value property-­tax rate per $10,000\n",
    "\n",
    "11. PTRATIO: pupil-­teacher ratio by town\n",
    "12. B: 1000(Bk ­- 0.63)^2 where Bk is the proportion of blacks by town\n",
    "13. LSTAT: % lower status of the population\n",
    "\n",
    "Target Variable: MEDV: Median value of owner-­occupied homes in $1000's\n",
    "\n",
    "\n",
    "These are the following steps or functions that you have to complete to create and train the linear regression model:\n",
    "1. Reading the data\n",
    "2. Computing the loss function\n",
    "3. Computing the gradient of the loss\n",
    "4. Training the model using Batch Gradient Descent\n"
   ]
  },
  {
   "cell_type": "code",
   "execution_count": 4,
   "metadata": {
    "id": "rJDNL8y8SozR",
    "tags": []
   },
   "outputs": [],
   "source": [
    "import numpy as np\n",
    "import pandas as pd\n",
    "import matplotlib.pyplot as plt\n",
    "import copy\n",
    "import math\n",
    "import random"
   ]
  },
  {
   "cell_type": "markdown",
   "metadata": {
    "id": "S5ExYIXiSozS"
   },
   "source": [
    "### 1.1. Reading the data"
   ]
  },
  {
   "cell_type": "markdown",
   "metadata": {
    "id": "FgnxuEDkSozS"
   },
   "source": [
    "In the following function ```load_data```, you have to read the data from the file and store the data into a pandas dataframe. Then you have to create two numpy arrays $X$ and $y$ from the dataframe:\n",
    "\n",
    "+ $X$: Input data of the shape (number of samples, number of input features)\n",
    "+ $y$: Target variable of the shape (number of samples,)\n"
   ]
  },
  {
   "cell_type": "code",
   "execution_count": 6,
   "metadata": {
    "id": "DEal5SFmSozS",
    "tags": []
   },
   "outputs": [
    {
     "name": "stdout",
     "output_type": "stream",
     "text": [
      "Shape of X:  (414, 6) Shape of y:  (414,)\n"
     ]
    }
   ],
   "source": [
    "## CODE REQUIRED ##\n",
    "import pandas as pd\n",
    "def load_data(filepath):\n",
    "    \"\"\"\n",
    "    This function loads the data into a pandas dataframe and coverts it into X and y numpy arrays\n",
    "\n",
    "    Args:\n",
    "        filepath: File path as a string\n",
    "    Returns:\n",
    "        X: Input data of the shape (# of samples, # of input features)\n",
    "        y: Target variable of the shape (# of sample,)\n",
    "    \"\"\"\n",
    "\n",
    "    ### START CODE HERE ###\n",
    "    df = pd.read_csv(filepath)\n",
    "\n",
    "    X = df.drop(columns=['house price of unit area']).values\n",
    "    y = df['house price of unit area'].values\n",
    "    ### END CODE HERE ###\n",
    "\n",
    "    return X,y\n",
    "\n",
    "filepath = None\n",
    "### START CODE HERE ###\n",
    "## set the file path\n",
    "filepath = 'Taiwan_House.csv'\n",
    "### END CODE HERE ###\n",
    "X, y = load_data(filepath)\n",
    "\n",
    "print(\"Shape of X: \",X.shape, \"Shape of y: \",y.shape)"
   ]
  },
  {
   "cell_type": "markdown",
   "metadata": {
    "id": "se3Qrch5PoIO"
   },
   "source": [
    "We will not use all the features from ```X```.\n",
    "\n",
    "**For Even Roll Number Students:**\n",
    "Set the last two digits of your roll number as the random seed and pick a number ``r`` between 3 and 6 (both inclusive) randomly. Use the first ```r``` features of the numpy array ```X```.\n",
    "\n",
    "**For Odd Roll Number Students:**\n",
    "Set the last two digits of your roll number as the random seed and pick a number ``r`` between 9 and 13 (both inclusive) randomly. Use the first ```r``` features of the numpy array ```X```.\n"
   ]
  },
  {
   "cell_type": "code",
   "execution_count": 8,
   "metadata": {
    "id": "mnRd0p8LtRJ5"
   },
   "outputs": [
    {
     "name": "stdout",
     "output_type": "stream",
     "text": [
      "Shape of X:  (414, 6) Shape of y:  (414,)\n"
     ]
    }
   ],
   "source": [
    "## CODE REQUIRED ##\n",
    "import random\n",
    "def random_feature_selection(X):\n",
    "    \"\"\"\n",
    "    For Even Roll Number Students: Set the last two digits of your roll number as the random seed and pick a number r\n",
    "    between 3 and 6 randomly. Use the first ```r``` features of the numpy array X.\n",
    "    For Odd Roll Number Students: Set the last two digits of your roll number as the random seed and pick a number r\n",
    "    between 9 and 13 randomly. Use the first ```r``` features of the numpy array X.\n",
    "    Args:\n",
    "        X: Input data of the shape (# of samples, # of input features)\n",
    "    Returns:\n",
    "        X_new: New input data of the shape (# of samples, r) containg only the first r features from X\n",
    "    \"\"\"\n",
    "    X_new = None\n",
    "\n",
    "    ### START CODE HERE ###\n",
    "    seed = 88 # Roll No. : 22CS10088\n",
    "    random.seed(seed)\n",
    "\n",
    "    r = random.randint(3, 6)\n",
    "\n",
    "    X_new = X[:, :r]\n",
    "    ### END CODE HERE ###\n",
    "\n",
    "    return X_new\n",
    "\n",
    "X = random_feature_selection(X)\n",
    "print(\"Shape of X: \",X.shape, \"Shape of y: \",y.shape)"
   ]
  },
  {
   "cell_type": "markdown",
   "metadata": {
    "id": "4FAc8UixtqLS"
   },
   "source": [
    "We need to pre-process the data. We are using min-max scaler to scale the input data ($X$).\n",
    "\n",
    "After that, we split the data (```X``` and ```y```) into a training dataset (```X_train``` and ```y_train```) and test dataset (```X_test``` and ```y_test```)."
   ]
  },
  {
   "cell_type": "code",
   "execution_count": 10,
   "metadata": {
    "id": "LLmD1I3-SozT",
    "tags": []
   },
   "outputs": [
    {
     "name": "stdout",
     "output_type": "stream",
     "text": [
      "Shape of X_train:  (310, 6) Shape of y_train:  (310,)\n",
      "Shape of X_test:  (104, 6) Shape of y_test:  (104,)\n"
     ]
    }
   ],
   "source": [
    "## Data scaling and train-test split\n",
    "import numpy as np\n",
    "def train_test_split(X, y, test_size=0.25, random_state=None):\n",
    "    if random_state is not None:\n",
    "        np.random.seed(random_state)\n",
    "    indices = np.arange(X.shape[0])\n",
    "    np.random.shuffle(indices)\n",
    "\n",
    "    split_index = int(X.shape[0] * (1 - test_size))\n",
    "\n",
    "    train_indices = indices[:split_index]\n",
    "    test_indices = indices[split_index:]\n",
    "\n",
    "    X_train = X[train_indices]\n",
    "    X_test = X[test_indices]\n",
    "    y_train = y[train_indices]\n",
    "    y_test = y[test_indices]\n",
    "\n",
    "    return X_train, X_test, y_train, y_test\n",
    "\n",
    "def min_max_scaler(X, feature_range=(0, 1)):\n",
    "    X_min = np.min(X, axis=0)\n",
    "    X_max = np.max(X, axis=0)\n",
    "\n",
    "    X_scaled = (X-X_min)/(X_max-X_min)\n",
    "\n",
    "    return X_scaled\n",
    "\n",
    "\n",
    "X = min_max_scaler(X)\n",
    "X_train, X_test, y_train, y_test = train_test_split(X, y, test_size=0.25, random_state=42)\n",
    "print(\"Shape of X_train: \",X_train.shape, \"Shape of y_train: \",y_train.shape)\n",
    "print(\"Shape of X_test: \",X_test.shape, \"Shape of y_test: \",y_test.shape)"
   ]
  },
  {
   "cell_type": "markdown",
   "metadata": {
    "id": "xrFEUV2-SozU"
   },
   "source": [
    "### 1.2. Computing the Loss Function"
   ]
  },
  {
   "cell_type": "markdown",
   "metadata": {
    "id": "I1BC0TPCSozU"
   },
   "source": [
    "In linear regression, the model parameters are:\n",
    "\n",
    "+ $w$: Parameters of the linear regression model (excluding the bias) of the shape (1, number of features)\n",
    "\n",
    "+ $b$: Bias parameter (scalar) of the linear regression model\n",
    "\n",
    "Both $w$ and $b$ are numpy arrays.\n",
    "\n",
    "Given the model parameters $w$ and $b$, the prediction for an input sample $X^i$ is:\n",
    "$$h_{w,b}(X^i) = w \\cdot X^i + b$$\n",
    "where $X^i$ is the $i^{th}$ training sample with shape (number of features,1)\n",
    "\n",
    "For linear regression, you have to implement and compute Mean Squarred Error loss fucntion:\n",
    "$$ L_{w,b}(X) = \\sum_{i=1}^{m}(y^i - h_{w,b}(X^i))^2 $$\n",
    "where $y^i$ is the true target value for the $i^{th}$ sample and $h_{w,b}(X^i)$ is the predicted value for the $i^{th}$ sample using the parameters $w$ and $b$.\n",
    "\n",
    "$w$ is the list of parameters excluding the bias and $b$ is the bias term."
   ]
  },
  {
   "cell_type": "code",
   "execution_count": 12,
   "metadata": {
    "id": "t6GqZMlYSozV",
    "tags": []
   },
   "outputs": [],
   "source": [
    "## CODE REQUIRED ##\n",
    "\n",
    "def loss_function(X, y, w, b):\n",
    "    \"\"\"\n",
    "    Computes the cost function for linear regression.\n",
    "\n",
    "    Args:\n",
    "        X: Input data of the shape (# of training samples, # of input features)\n",
    "        y: Target variable of the shape (# of training sample,)\n",
    "        w: Parameters of the linear regression model (excluding the bias) of the shape (1, number of features)\n",
    "        b: Bias parameter (scalar) of the linear regression model\n",
    "\n",
    "    Returns\n",
    "        loss: The loss function value of using w and b as the parameters to fit the data points in X and y\n",
    "    \"\"\"\n",
    "    # number of training examples\n",
    "    m = X.shape[0]\n",
    "\n",
    "    ### START CODE HERE ###\n",
    "    loss = 0\n",
    "    for i in range(m):\n",
    "        loss += (y[i] - (np.dot(X[i], w) + b)) ** 2        \n",
    "\n",
    "    loss = (1 / (2 * m)) * loss\n",
    "    ### END CODE HERE ###\n",
    "\n",
    "    return loss"
   ]
  },
  {
   "cell_type": "markdown",
   "metadata": {
    "id": "l0h7jhxGSozV"
   },
   "source": [
    "### 1.3. Comptuing the Gradient of the Loss\n",
    "\n",
    "In this following function ```compute_gradient```, you have to compute the gradients $\\frac{\\partial L}{\\partial w}$ and $\\frac{\\partial L}{\\partial b}$ of the loss $L$ w.r.t. $w$ and $b$. More specifically, you have to iterate over every training example and compute the gradients of the loss for that training example. Finally, aggregate the gradient values for all the training examples and take the average. The gradients can be computed as:\n",
    "$$\\frac{\\partial L}{\\partial w} = \\frac{1}{m} \\sum_{i=1}^m (h_{w,b}(X^i)-y^i)X^i$$\n",
    "\n",
    "$$\\frac{\\partial L}{\\partial b} = \\frac{1}{m} \\sum_{i=1}^{m} (h_{w,b}(X^i)-y^i)$$\n"
   ]
  },
  {
   "cell_type": "code",
   "execution_count": 14,
   "metadata": {
    "id": "do-IiCTZSozV",
    "tags": []
   },
   "outputs": [],
   "source": [
    "## CODE REQUIRED ##\n",
    "\n",
    "def compute_gradient(X, y, w, b):\n",
    "    \"\"\"\n",
    "    Computes the gradient values\n",
    "    Args:\n",
    "       X: Input data of the shape (# of training samples, # of input features)\n",
    "       y: Target variable of the shape (# of training sample,)\n",
    "       w: Parameters of the linear regression model (excluding the bias) of the shape (1, number of features)\n",
    "       b: Bias parameter of the linear regression model of the shape (1,1) or a scaler\n",
    "    Returns:\n",
    "       dL_dw : The gradient of the cost w.r.t. the parameters w with shape same as w\n",
    "       dL_db : The gradient of the cost w.r.t. the parameter b with shape same as b\n",
    "    \"\"\"\n",
    "\n",
    "    # Number of training examples\n",
    "    m = X.shape[0]\n",
    "\n",
    "    dL_dw = None\n",
    "    dL_db = None\n",
    "\n",
    "    ### START CODE HERE ###\n",
    "    n = w.shape[0]\n",
    "    dL_dw = np.zeros((n, ))\n",
    "    dL_db = 0.0\n",
    "\n",
    "    for i in range(m):\n",
    "        diff = (np.dot(X[i], w) + b) - y[i]\n",
    "        for j in range(n):\n",
    "            dL_dw[j] += diff * X[i, j].item()\n",
    "        dL_db += diff\n",
    "\n",
    "    dL_dw /= m\n",
    "    dL_db /= m\n",
    "    ### END CODE HERE ###\n",
    "    return dL_dw, dL_db"
   ]
  },
  {
   "cell_type": "markdown",
   "metadata": {
    "id": "uYL1jWaZSozV"
   },
   "source": [
    "### 1.4. Training the Model using Batch Gradient Descent"
   ]
  },
  {
   "cell_type": "markdown",
   "metadata": {
    "id": "2vwyRzWqSozV"
   },
   "source": [
    "Finally, you have to implement the batch gradient descent algorithm to train and learn the parameters of the linear regression model. You have to use ```loss_function``` and ```compute_gradient``` functions that you have implemented earlier in this assignment.\n",
    "\n",
    "In this ```batch_gradient_descent``` function, you have to compute the gradient for the training samples and update the parameters $w$ and $b$ in every iteration:\n",
    "\n",
    "+ $w \\leftarrow w - \\alpha \\frac{\\partial L}{\\partial w}$\n",
    "\n",
    "+ $b \\leftarrow b - \\alpha \\frac{\\partial L}{\\partial b}$\n",
    "\n",
    "Additionally, you have compute the loss function values in every iteration and store it in the list variable ```loss_hist``` and print the loss value after every 100 iterations during the training process."
   ]
  },
  {
   "cell_type": "code",
   "execution_count": 16,
   "metadata": {
    "id": "UHKldb3hSozV",
    "tags": []
   },
   "outputs": [],
   "source": [
    "## CODE REQUIRED ##\n",
    "import copy\n",
    "def batch_gradient_descent(X, y, w_initial, b_initial, alpha, num_iters):\n",
    "    \"\"\"\n",
    "    Batch gradient descent to learn the parameters (w and b) of the linear regression model and to print loss values\n",
    "    every 100 iterations\n",
    "\n",
    "    Args:\n",
    "        X: Input data of the shape (# of training samples, # of input features)\n",
    "        y: Target variable of the shape (# of training sample,)\n",
    "        w_initial: Initial parameters of the linear regression model (excluding the bias) of the shape (1, number of features)\n",
    "        b_initial: Initial bias parameter (scalar) of the linear regression model\n",
    "        alpha: Learning rate\n",
    "        num_iters: number of iterations\n",
    "    Returns\n",
    "        w: Updated values of parameters of the model after training\n",
    "        b: Updated bias of the model after training\n",
    "        loss_hist: List of loss values for every iteration\n",
    "    \"\"\"\n",
    "\n",
    "    # number of training examples\n",
    "    m = X.shape[0]\n",
    "\n",
    "    # to store loss values for every iteation as a list and print loss value after every 100 iterations\n",
    "    loss_hist = []\n",
    "\n",
    "    # Initialize parameters\n",
    "    w = copy.deepcopy(w_initial) ## deepcopy is used so that the updates do not change the initial variable values\n",
    "    b = b_initial\n",
    "\n",
    "    ### START CODE HERE ###\n",
    "    for i in range(num_iters):\n",
    "        dL_dw, dL_db = compute_gradient(X, y, w, b)\n",
    "\n",
    "        w -= alpha * dL_dw\n",
    "        b -= alpha * dL_db\n",
    "\n",
    "        loss = loss_function(X, y, w, b)\n",
    "        loss_hist.append(loss)\n",
    "\n",
    "        if i % 100 == 0:\n",
    "            print(f\"Iteration {i}: Loss = {loss}\")\n",
    "\n",
    "\n",
    "    ### END CODE HERE ###\n",
    "\n",
    "    return w, b, loss_hist"
   ]
  },
  {
   "cell_type": "markdown",
   "metadata": {
    "id": "y0h3DUMwNocp"
   },
   "source": [
    "Now you have to intialize the model parameters ($w$ and $b$) and learning rate (```alpha```). The learning rate ```alpha``` has to be randomly initialized between 0.0001 and 0.001. For the learning rate, you have to first set the last two digits of your roll number as the random seed using ```random.seed()``` function."
   ]
  },
  {
   "cell_type": "code",
   "execution_count": 5,
   "metadata": {
    "id": "Xd8QFReNDyGs"
   },
   "outputs": [
    {
     "ename": "NameError",
     "evalue": "name 'np' is not defined",
     "output_type": "error",
     "traceback": [
      "\u001b[1;31m---------------------------------------------------------------------------\u001b[0m",
      "\u001b[1;31mNameError\u001b[0m                                 Traceback (most recent call last)",
      "Cell \u001b[1;32mIn[5], line 8\u001b[0m\n\u001b[0;32m      6\u001b[0m random_seed \u001b[38;5;241m=\u001b[39m \u001b[38;5;241m88\u001b[39m\n\u001b[0;32m      7\u001b[0m \u001b[38;5;66;03m### END CODE HERE ###\u001b[39;00m\n\u001b[1;32m----> 8\u001b[0m np\u001b[38;5;241m.\u001b[39mrandom\u001b[38;5;241m.\u001b[39mseed(random_seed)\n\u001b[0;32m     10\u001b[0m \u001b[38;5;28;01mdef\u001b[39;00m \u001b[38;5;21minitialize_parameters\u001b[39m():\n\u001b[0;32m     11\u001b[0m \u001b[38;5;250m    \u001b[39m\u001b[38;5;124;03m\"\"\"\u001b[39;00m\n\u001b[0;32m     12\u001b[0m \u001b[38;5;124;03m    This function randomly initializes the model parameters (w and b) and the hyperparameter alpha\u001b[39;00m\n\u001b[0;32m     13\u001b[0m \u001b[38;5;124;03m    Initial w and b should be randomly sampled from a normal distribution with mean 0\u001b[39;00m\n\u001b[1;32m   (...)\u001b[0m\n\u001b[0;32m     20\u001b[0m \u001b[38;5;124;03m        alpha: Learning rate\u001b[39;00m\n\u001b[0;32m     21\u001b[0m \u001b[38;5;124;03m    \"\"\"\u001b[39;00m\n",
      "\u001b[1;31mNameError\u001b[0m: name 'np' is not defined"
     ]
    }
   ],
   "source": [
    "## CODE REQUIRED ##\n",
    "\n",
    "## set the last two digits of your roll number as the random seed\n",
    "random_seed = None\n",
    "### START CODE HERE ###\n",
    "random_seed = 88\n",
    "### END CODE HERE ###\n",
    "np.random.seed(random_seed)\n",
    "\n",
    "def initialize_parameters():\n",
    "    \"\"\"\n",
    "    This function randomly initializes the model parameters (w and b) and the hyperparameter alpha\n",
    "    Initial w and b should be randomly sampled from a normal distribution with mean 0\n",
    "    alpha should be randomly initialized between 0.0001 and 0.001 by using last two digits of your roll number as the random seed\n",
    "    Args:\n",
    "        None\n",
    "    Returns:\n",
    "        initial_w: Initial parameters of the linear regression model (excluding the bias) of the shape (1, number of features)\n",
    "        initial_b: Initial bias parameter (scalar) of the linear regression model\n",
    "        alpha: Learning rate\n",
    "    \"\"\"\n",
    "\n",
    "    initial_w = None\n",
    "    initial_b = None\n",
    "    alpha = None\n",
    "\n",
    "    ### START CODE HERE ###\n",
    "    initial_w = np.random.random((X_train.shape[1], ))\n",
    "    initial_b = np.random.random()\n",
    "    \n",
    "    alpha = random.uniform(0.0001, 0.001)\n",
    "    ### END CODE HERE ###\n",
    "\n",
    "    return initial_w,initial_b,alpha\n"
   ]
  },
  {
   "cell_type": "markdown",
   "metadata": {
    "id": "l7nt5VdORUEu"
   },
   "source": [
    "In the next cell, the model is trained using batch gradient descent algorithm for ```num_iters=10000``` iterations. You can change the number of iterations to check any improvements in the performance."
   ]
  },
  {
   "cell_type": "code",
   "execution_count": 20,
   "metadata": {
    "id": "9rAYubtASozV",
    "tags": []
   },
   "outputs": [
    {
     "name": "stdout",
     "output_type": "stream",
     "text": [
      "Iteration 0: Loss = 699.519451536788\n",
      "Iteration 100: Loss = 470.9557868192534\n",
      "Iteration 200: Loss = 324.13573536503503\n",
      "Iteration 300: Loss = 229.76374255914192\n",
      "Iteration 400: Loss = 169.04445663115055\n",
      "Iteration 500: Loss = 129.919190286507\n",
      "Iteration 600: Loss = 104.65133019488616\n",
      "Iteration 700: Loss = 88.27719711009458\n",
      "Iteration 800: Loss = 77.61215710069293\n",
      "Iteration 900: Loss = 70.61296776954052\n",
      "Iteration 1000: Loss = 65.96867578102012\n",
      "Iteration 1100: Loss = 62.83814709403447\n",
      "Iteration 1200: Loss = 60.68167300959542\n",
      "Iteration 1300: Loss = 59.15293286854773\n",
      "Iteration 1400: Loss = 58.02968004123372\n",
      "Iteration 1500: Loss = 57.16927179677617\n",
      "Iteration 1600: Loss = 56.480138374081164\n",
      "Iteration 1700: Loss = 55.903478239726105\n",
      "Iteration 1800: Loss = 55.40151420772873\n",
      "Iteration 1900: Loss = 54.94995884190187\n",
      "Iteration 2000: Loss = 54.53318042732662\n",
      "Iteration 2100: Loss = 54.14110155874974\n",
      "Iteration 2200: Loss = 53.76720933239229\n",
      "Iteration 2300: Loss = 53.40727871468378\n",
      "Iteration 2400: Loss = 53.05855346761636\n",
      "Iteration 2500: Loss = 52.71922063122284\n",
      "Iteration 2600: Loss = 52.388073345264104\n",
      "Iteration 2700: Loss = 52.064294504980076\n",
      "Iteration 2800: Loss = 51.747317941309674\n",
      "Iteration 2900: Loss = 51.43673933923889\n",
      "Iteration 3000: Loss = 51.13225906725636\n",
      "Iteration 3100: Loss = 50.83364548054754\n",
      "Iteration 3200: Loss = 50.540711359992365\n",
      "Iteration 3300: Loss = 50.25329877912744\n",
      "Iteration 3400: Loss = 49.971269378634176\n",
      "Iteration 3500: Loss = 49.69449811050904\n",
      "Iteration 3600: Loss = 49.4228692086367\n",
      "Iteration 3700: Loss = 49.1562735881037\n",
      "Iteration 3800: Loss = 48.89460716148326\n",
      "Iteration 3900: Loss = 48.637769743748436\n",
      "Iteration 4000: Loss = 48.38566433514865\n",
      "Iteration 4100: Loss = 48.13819664688609\n",
      "Iteration 4200: Loss = 47.89527478286846\n",
      "Iteration 4300: Loss = 47.65680902189128\n",
      "Iteration 4400: Loss = 47.422711664541744\n",
      "Iteration 4500: Loss = 47.19289692190963\n",
      "Iteration 4600: Loss = 46.96728083139689\n",
      "Iteration 4700: Loss = 46.74578119018393\n",
      "Iteration 4800: Loss = 46.52831750028881\n",
      "Iteration 4900: Loss = 46.3148109213233\n",
      "Iteration 5000: Loss = 46.105184228441736\n",
      "Iteration 5100: Loss = 45.89936177386833\n",
      "Iteration 5200: Loss = 45.697269450964775\n",
      "Iteration 5300: Loss = 45.49883466016461\n",
      "Iteration 5400: Loss = 45.3039862763381\n",
      "Iteration 5500: Loss = 45.11265461730342\n",
      "Iteration 5600: Loss = 44.92477141329524\n",
      "Iteration 5700: Loss = 44.74026977726641\n",
      "Iteration 5800: Loss = 44.559084175937265\n",
      "Iteration 5900: Loss = 44.38115040153427\n",
      "Iteration 6000: Loss = 44.20640554417394\n",
      "Iteration 6100: Loss = 44.034787964863035\n",
      "Iteration 6200: Loss = 43.86623726908801\n",
      "Iteration 6300: Loss = 43.70069428097545\n",
      "Iteration 6400: Loss = 43.53810101800605\n",
      "Iteration 6500: Loss = 43.37840066626735\n",
      "Iteration 6600: Loss = 43.22153755623178\n",
      "Iteration 6700: Loss = 43.0674571390479\n",
      "Iteration 6800: Loss = 42.91610596333262\n",
      "Iteration 6900: Loss = 42.76743165245337\n",
      "Iteration 7000: Loss = 42.621382882289964\n",
      "Iteration 7100: Loss = 42.47790935946472\n",
      "Iteration 7200: Loss = 42.336961800032064\n",
      "Iteration 7300: Loss = 42.198491908615814\n",
      "Iteration 7400: Loss = 42.06245235798715\n",
      "Iteration 7500: Loss = 41.928796769071155\n",
      "Iteration 7600: Loss = 41.79747969137481\n",
      "Iteration 7700: Loss = 41.6684565838266\n",
      "Iteration 7800: Loss = 41.541683796018674\n",
      "Iteration 7900: Loss = 41.41711854984379\n",
      "Iteration 8000: Loss = 41.29471892151799\n",
      "Iteration 8100: Loss = 41.174443823981115\n",
      "Iteration 8200: Loss = 41.056252989667044\n",
      "Iteration 8300: Loss = 40.94010695363574\n",
      "Iteration 8400: Loss = 40.82596703705937\n",
      "Iteration 8500: Loss = 40.71379533105546\n",
      "Iteration 8600: Loss = 40.603554680858515\n",
      "Iteration 8700: Loss = 40.49520867032462\n",
      "Iteration 8800: Loss = 40.388721606760406\n",
      "Iteration 8900: Loss = 40.284058506070295\n",
      "Iteration 9000: Loss = 40.181185078215144\n",
      "Iteration 9100: Loss = 40.08006771297549\n",
      "Iteration 9200: Loss = 39.98067346601307\n",
      "Iteration 9300: Loss = 39.882970045224475\n",
      "Iteration 9400: Loss = 39.78692579738012\n",
      "Iteration 9500: Loss = 39.69250969504327\n",
      "Iteration 9600: Loss = 39.599691323762606\n",
      "Iteration 9700: Loss = 39.50844086953268\n",
      "Iteration 9800: Loss = 39.41872910651678\n",
      "Iteration 9900: Loss = 39.33052738502628\n",
      "Updated w:  [ 5.59788619 -1.65364753 -4.98112086 13.78059426 11.77288971 15.01961042]\n",
      "Updated b:  15.843076970809733\n"
     ]
    }
   ],
   "source": [
    "# initialize the parameters and hyperparameter\n",
    "initial_w, initial_b, alpha = initialize_parameters()\n",
    "\n",
    "# number of iterations\n",
    "num_iters = 10000\n",
    "\n",
    "w,b,loss_hist = batch_gradient_descent(X_train ,y_train, initial_w, initial_b, alpha, num_iters)\n",
    "print(\"Updated w: \",w)\n",
    "print(\"Updated b: \",b)"
   ]
  },
  {
   "cell_type": "markdown",
   "metadata": {
    "id": "sluek2LkSozW"
   },
   "source": [
    "### 1.5. Final Train Error and Test Error"
   ]
  },
  {
   "cell_type": "markdown",
   "metadata": {
    "id": "EH9oHC10fAlV"
   },
   "source": [
    "After the linear regression model is trained, we will compute the final train error and test error for the trained model."
   ]
  },
  {
   "cell_type": "code",
   "execution_count": 22,
   "metadata": {
    "id": "UIXb7sSvSozW",
    "tags": []
   },
   "outputs": [
    {
     "name": "stdout",
     "output_type": "stream",
     "text": [
      "Train Error:  39.24466757257627 , Test Error:  72.15360120145638\n"
     ]
    }
   ],
   "source": [
    "## Train and Test error computation\n",
    "\n",
    "train_error = loss_function(X_train,y_train,w,b)\n",
    "test_error = loss_function(X_test,y_test,w,b)\n",
    "print(\"Train Error: \",train_error, \", Test Error: \",test_error)"
   ]
  },
  {
   "cell_type": "markdown",
   "metadata": {
    "id": "eximd12PbAgC"
   },
   "source": [
    "### 1.6. Plotting the loss function"
   ]
  },
  {
   "cell_type": "markdown",
   "metadata": {
    "id": "meDwLCCIfOBo"
   },
   "source": [
    "We will plot the loss function values for every training iteration. If the model is trained properly, you will see that the loss function reduces as the training progesses and it converges at some point."
   ]
  },
  {
   "cell_type": "code",
   "execution_count": 24,
   "metadata": {
    "id": "DW4bue0oSozW"
   },
   "outputs": [
    {
     "data": {
      "image/png": "[encoded data removed]",
      "text/plain": [
       "<Figure size 640x480 with 1 Axes>"
      ]
     },
     "metadata": {},
     "output_type": "display_data"
    }
   ],
   "source": [
    "# PLotting the loss values for every training iterations\n",
    "import matplotlib.pyplot as plt\n",
    "loss_plot = [loss_hist[i] for i in range(len(loss_hist))]\n",
    "plt.xlabel(\"Iterations\")\n",
    "plt.ylabel(\"Loss function\")\n",
    "plt.plot(loss_plot)\n",
    "plt.show()"
   ]
  },
  {
   "cell_type": "markdown",
   "metadata": {
    "id": "BAVgq4HWCmDX"
   },
   "source": [
    "### 1.7 Experimenting with different values of the Hyperparemeters\n",
    "\n",
    "Previously, we randomly sampled the learning rate and the number of features to train the model. Now, you have to manually choose the number of features and the learning rate. Then, you have to train the model again on the manually choosen hyperparameters (number of features and learning rate). In the next cell, you have to manually choose the hyperparameters and write the code to train the model.\n",
    "\n",
    "After the model is trained, you have to compare the performance of the model with random chosen hyperparameters and manually chosen hyperparameters."
   ]
  },
  {
   "cell_type": "code",
   "execution_count": 28,
   "metadata": {
    "id": "K2QuEbE1Clxq"
   },
   "outputs": [
    {
     "name": "stdout",
     "output_type": "stream",
     "text": [
      "Iteration 0: Loss = 157.88689196881649\n",
      "Iteration 100: Loss = 33.040247676925816\n",
      "Iteration 200: Loss = 32.63349773273457\n",
      "Iteration 300: Loss = 32.43887912929932\n",
      "Iteration 400: Loss = 32.318181603701056\n",
      "Iteration 500: Loss = 32.23778710899436\n",
      "Iteration 600: Loss = 32.18315072196748\n",
      "Iteration 700: Loss = 32.14581470891653\n",
      "Iteration 800: Loss = 32.120262936192795\n",
      "Iteration 900: Loss = 32.102768954104924\n",
      "Iteration 1000: Loss = 32.09079042902498\n",
      "Iteration 1100: Loss = 32.08258822284376\n",
      "Iteration 1200: Loss = 32.07697177889539\n",
      "Iteration 1300: Loss = 32.073125922224634\n",
      "Iteration 1400: Loss = 32.0704924726444\n",
      "Iteration 1500: Loss = 32.068689218298296\n",
      "Iteration 1600: Loss = 32.06745444000778\n",
      "Iteration 1700: Loss = 32.06660892564804\n",
      "Iteration 1800: Loss = 32.066029959739716\n",
      "Iteration 1900: Loss = 32.06563351286748\n",
      "Iteration 2000: Loss = 32.06536204589466\n",
      "Iteration 2100: Loss = 32.06517615890067\n",
      "Iteration 2200: Loss = 32.065048872792254\n",
      "Iteration 2300: Loss = 32.064961713636926\n",
      "Iteration 2400: Loss = 32.06490203141031\n",
      "Iteration 2500: Loss = 32.064861164009066\n",
      "Iteration 2600: Loss = 32.06483318005849\n",
      "Iteration 2700: Loss = 32.064814018049894\n",
      "Iteration 2800: Loss = 32.06480089686563\n",
      "Iteration 2900: Loss = 32.06479191213543\n",
      "Iteration 3000: Loss = 32.06478575984196\n",
      "Iteration 3100: Loss = 32.064781547059376\n",
      "Iteration 3200: Loss = 32.06477866235676\n",
      "Iteration 3300: Loss = 32.064776687056785\n",
      "Iteration 3400: Loss = 32.06477533447023\n",
      "Iteration 3500: Loss = 32.064774408286716\n",
      "Iteration 3600: Loss = 32.064773774082546\n",
      "Iteration 3700: Loss = 32.064773339811296\n",
      "Iteration 3800: Loss = 32.06477304244408\n",
      "Iteration 3900: Loss = 32.06477283882191\n",
      "Iteration 4000: Loss = 32.064772699391604\n",
      "Iteration 4100: Loss = 32.06477260391675\n",
      "Iteration 4200: Loss = 32.06477253854034\n",
      "Iteration 4300: Loss = 32.06477249377385\n",
      "Iteration 4400: Loss = 32.06477246312003\n",
      "Iteration 4500: Loss = 32.06477244212975\n",
      "Iteration 4600: Loss = 32.06477242775672\n",
      "Iteration 4700: Loss = 32.06477241791479\n",
      "Iteration 4800: Loss = 32.064772411175504\n",
      "Iteration 4900: Loss = 32.064772406560756\n",
      "Iteration 5000: Loss = 32.06477240340085\n",
      "Iteration 5100: Loss = 32.06477240123711\n",
      "Iteration 5200: Loss = 32.06477239975547\n",
      "Iteration 5300: Loss = 32.064772398740935\n",
      "Iteration 5400: Loss = 32.064772398046195\n",
      "Iteration 5500: Loss = 32.06477239757049\n",
      "Iteration 5600: Loss = 32.06477239724475\n",
      "Iteration 5700: Loss = 32.0647723970217\n",
      "Iteration 5800: Loss = 32.06477239686897\n",
      "Iteration 5900: Loss = 32.064772396764404\n",
      "Iteration 6000: Loss = 32.06477239669278\n",
      "Iteration 6100: Loss = 32.06477239664374\n",
      "Iteration 6200: Loss = 32.0647723966102\n",
      "Iteration 6300: Loss = 32.06477239658715\n",
      "Iteration 6400: Loss = 32.06477239657145\n",
      "Iteration 6500: Loss = 32.06477239656061\n",
      "Iteration 6600: Loss = 32.06477239655326\n",
      "Iteration 6700: Loss = 32.06477239654821\n",
      "Iteration 6800: Loss = 32.06477239654475\n",
      "Iteration 6900: Loss = 32.06477239654238\n",
      "Iteration 7000: Loss = 32.06477239654074\n",
      "Iteration 7100: Loss = 32.06477239653961\n",
      "Iteration 7200: Loss = 32.06477239653889\n",
      "Iteration 7300: Loss = 32.06477239653839\n",
      "Iteration 7400: Loss = 32.06477239653801\n",
      "Iteration 7500: Loss = 32.06477239653775\n",
      "Iteration 7600: Loss = 32.064772396537585\n",
      "Iteration 7700: Loss = 32.064772396537506\n",
      "Iteration 7800: Loss = 32.06477239653739\n",
      "Iteration 7900: Loss = 32.064772396537336\n",
      "Iteration 8000: Loss = 32.0647723965373\n",
      "Iteration 8100: Loss = 32.06477239653726\n",
      "Iteration 8200: Loss = 32.06477239653728\n",
      "Iteration 8300: Loss = 32.064772396537265\n",
      "Iteration 8400: Loss = 32.064772396537236\n",
      "Iteration 8500: Loss = 32.06477239653724\n",
      "Iteration 8600: Loss = 32.06477239653724\n",
      "Iteration 8700: Loss = 32.064772396537236\n",
      "Iteration 8800: Loss = 32.06477239653723\n",
      "Iteration 8900: Loss = 32.064772396537215\n",
      "Iteration 9000: Loss = 32.064772396537215\n",
      "Iteration 9100: Loss = 32.06477239653725\n",
      "Iteration 9200: Loss = 32.064772396537215\n",
      "Iteration 9300: Loss = 32.06477239653724\n",
      "Iteration 9400: Loss = 32.064772396537215\n",
      "Iteration 9500: Loss = 32.06477239653722\n",
      "Iteration 9600: Loss = 32.064772396537236\n",
      "Iteration 9700: Loss = 32.06477239653723\n",
      "Iteration 9800: Loss = 32.06477239653723\n",
      "Iteration 9900: Loss = 32.06477239653717\n",
      "Train Error:  32.06477239653722 , Test Error:  58.41680354838358 , alpha : 0.6\n"
     ]
    }
   ],
   "source": [
    "## CODE REQUIRED ##\n",
    "\n",
    "\"\"\"\n",
    "Manually choose the hyperparameters (learning rate and number of features) and train the model.\n",
    "Then compare the performance with random chosen hyperparameters and manually chosen hyperparameters.\n",
    "\"\"\"\n",
    "\n",
    "### START CODE HERE ###\n",
    "filepath = 'Taiwan_House.csv'\n",
    "X_new, y_new = load_data(filepath)\n",
    "\n",
    "X_new = min_max_scaler(X_new)\n",
    "X_new_train, X_new_test, y_new_train, y_new_test = train_test_split(X_new, y_new, test_size=0.25, random_state=42)\n",
    "\n",
    "init_w_new = np.random.randn(X_new.shape[1])\n",
    "init_b_new = np.random.randn()\n",
    "num_iters = 10000\n",
    "alpha_new = 0.6\n",
    "\n",
    "w_new, b_new, loss_hist_new = batch_gradient_descent(X_new_train ,y_new_train, init_w_new, init_b_new, alpha_new, num_iters)\n",
    "train_error_new = loss_function(X_new_train, y_new_train, w_new, b_new)\n",
    "test_error_new = loss_function(X_new_test, y_new_test, w_new, b_new)\n",
    "\n",
    "print(\"Train Error: \", train_error_new, \", Test Error: \", test_error_new,\", alpha :\", alpha_new)\n",
    "### END CODE HERE ###"
   ]
  },
  {
   "cell_type": "markdown",
   "metadata": {
    "id": "XZ0CviUnZui0"
   },
   "source": [
    "## Part 2: Logistic Regression\n",
    "\n",
    "### Problem Statement\n",
    "A Food grain industry requires an efficient classification system to help in sorting food grain species. You have to develop a Logistic Regression model for this purpose.\n",
    " Given various features of a rice grain such as area, perimeter, axis lengths etc. as input features, the task is to build a logistic regression model to predict the species of the food grain.\n",
    "\n",
    "### Dataset Description\n",
    "\n",
    "**For Even Roll Number Students**\n",
    "\n",
    "Dataset Filename: Rice_Classification.csv\n",
    "\n",
    "Attribute Information:\n",
    "+ Area: Returns the number of pixels within the boundaries of the rice grain.\n",
    "+ Perimeter: Calculates the circumference by calculating the distance between pixels around the boundaries of the rice grain.\n",
    "+ Major Axis Length: The longest line that can be drawn on the rice grain, i.e. the main axis distance, gives.\n",
    "+ Minor Axis Length: The shortest line that can be drawn on the rice grain, i.e. the small axis distance, gives.\n",
    "+ Eccentricity: It measures how round the ellipse, which has the same moments as the rice grain, is.\n",
    "+ Convex Area: Returns the pixel count of the smallest convex shell of the region formed by the rice grain.\n",
    "+ Extent: Returns the ratio of the region formed by the rice grain to the bounding box pixels.\n",
    "\n",
    "Target Variable: Class: Cammeo and Osmancik\n",
    "\n",
    "**For Odd Roll Number Students**\n",
    "\n",
    "Dataset Filename: Pumpkin_Seeds_Dataset.csv\n",
    "\n",
    "Attribute Information:\n",
    "\n",
    "+ Area: Represents the number of pixels within the boundaries of the pumpkin seed.\n",
    "\n",
    "+ Perimeter: Calculates the circumference by measuring the distance between pixels around the boundary of the pumpkin seed.\n",
    "\n",
    "+ Major Axis Length: The longest line that can be drawn on the pumpkin seed, representing the main axis distance.\n",
    "\n",
    "+ Minor Axis Length: The shortest line that can be drawn on the pumpkin seed, representing the minor axis distance.\n",
    "\n",
    "+ Convex Area: Returns the pixel count of the smallest convex shell that can contain the pumpkin seed.\n",
    "\n",
    "+ Equivalent Diameter: Diameter of a circle with the same area as the pumpkin seed.\n",
    "\n",
    "+ Eccentricity: This measures how round the ellipse, which has the same moments as the pumpkin seed has.\n",
    "\n",
    "+ Solidity: This is the ratio of the area of the pumpkin seed to the area of its convex hull. It measures the extent to which the shape is convex.\n",
    "\n",
    "+ Extent: Returns the ratio of the area of the pumpkin seed to the area of its bounding box.\n",
    "\n",
    "+ Roundness: Measure of how closely the shape of the pumpkin seed approaches that of a circle.\n",
    "\n",
    "+ Aspect Ratio: Ratio of the major axis length to the minor axis length.\n",
    "\n",
    "+ Compactness: Measure of the shape's compactness, which is the shape's deviation from being a perfect circle. In essence, compactness quantifies how efficiently an object's area is packed within its perimeter.\n",
    "\n",
    "Target Variable: Class: Çerçevelik and Ürgüp Sivrisi\n",
    "\n",
    "\n",
    "\n",
    "These are the following steps or functions that you have to complete to create and train the linear regression model:\n",
    "1. Reading the data\n",
    "2. Creating the sigmoid function\n",
    "2. Computing the loss function\n",
    "3. Computing the gradient of the loss\n",
    "4. Training the model using Batch Gradient Descent"
   ]
  },
  {
   "cell_type": "code",
   "execution_count": 30,
   "metadata": {
    "id": "T27XOBZrRZ4M"
   },
   "outputs": [],
   "source": [
    "import numpy as np\n",
    "import pandas as pd\n",
    "import matplotlib.pyplot as plt\n",
    "from scipy.special import logsumexp\n",
    "import copy\n",
    "import math"
   ]
  },
  {
   "cell_type": "markdown",
   "metadata": {
    "id": "G3luUk4L0WO_"
   },
   "source": [
    "### 2.1. Reading the data\n",
    "\n",
    "In the function ```load_data```, you have to read data from the file, store it in a dataframe and split the data from the dataframe into two numpy arrays X and y.\n",
    "\n",
    "**X** : data of the input features\n",
    "\n",
    "**y**  : data of the class labels\n",
    "\n",
    "The class labels in **y** should be replaced with '0' and '1', for corresponding classes."
   ]
  },
  {
   "cell_type": "code",
   "execution_count": 63,
   "metadata": {
    "id": "7-RV0JgEZi1h"
   },
   "outputs": [
    {
     "name": "stdout",
     "output_type": "stream",
     "text": [
      "Shape of X:  (3810, 7) Shape of y:  (3810,)\n"
     ]
    }
   ],
   "source": [
    "## CODE REQUIRED ##\n",
    "import pandas as pd\n",
    "def load_data(filepath):\n",
    "    \"\"\"\n",
    "    This function loads the data into a pandas dataframe and converts it into X and y numpy arrays\n",
    "    y should be a binary numpy array with values 0 and 1, for 2 different classes\n",
    "    Args:\n",
    "        filepath: File path as a string\n",
    "    Returns:\n",
    "        X: Input data of the shape (# of samples, # of input features)\n",
    "        y: Target variable of the shape (# of sample,) with values 0 and 1, for 2 different classes\n",
    "    \"\"\"\n",
    "\n",
    "    ### START CODE HERE ###\n",
    "    df = pd.read_csv(filepath)\n",
    "    X = df.drop(columns = ['Class']).values;\n",
    "    y = df['Class'].to_numpy()\n",
    "\n",
    "    for i in range(y.shape[0]):\n",
    "        if y[i] == 'Cammeo':\n",
    "            y[i] = 0\n",
    "        elif y[i] == 'Osmancik':\n",
    "            y[i] = 1\n",
    "    ### END CODE HERE ###\n",
    "\n",
    "    return X,y\n",
    "\n",
    "filepath = None\n",
    "### START CODE HERE ###\n",
    "## set the file path\n",
    "filepath = 'Rice_Classification.csv'\n",
    "### END CODE HERE ###\n",
    "\n",
    "X, y = load_data(filepath)\n",
    "\n",
    "print(\"Shape of X: \",X.shape, \"Shape of y: \",y.shape)"
   ]
  },
  {
   "cell_type": "markdown",
   "metadata": {
    "id": "sLGPG1YU-C47"
   },
   "source": [
    "We will not use all the features from X.\n",
    "\n",
    "For Even Roll Number Students: Set the last two digits of your roll number as the random seed and pick a number r between 4 and 7 (both inclusive) randomly. Use the first r features of the numpy array X.\n",
    "\n",
    "For Odd Roll Number Students: Set the last two digits of your roll number as the random seed and pick a number r between 8 and 12 (both inclusive) randomly. Use the first r features of the numpy array X."
   ]
  },
  {
   "cell_type": "code",
   "execution_count": 65,
   "metadata": {
    "id": "JNsDb2Ae94s6"
   },
   "outputs": [
    {
     "name": "stdout",
     "output_type": "stream",
     "text": [
      "Shape of X:  (3810, 7) Shape of y:  (3810,)\n"
     ]
    }
   ],
   "source": [
    "## CODE REQUIRED ##\n",
    "import random\n",
    "def random_feature_selection(X):\n",
    "    \"\"\"\n",
    "\n",
    "    Args:\n",
    "        X: Input data of the shape (# of samples, # of input features)\n",
    "    Returns:\n",
    "        X_new: New input data of the shape (# of samples, r) containg only the first r features from X\n",
    "    \"\"\"\n",
    "\n",
    "    X_new = None\n",
    "\n",
    "    ### START CODE HERE ###\n",
    "    seed = 88\n",
    "    r = random.seed(seed)\n",
    "\n",
    "    X_new = X[:, :r]\n",
    "\n",
    "\n",
    "    ### END CODE HERE ###\n",
    "\n",
    "    return X_new\n",
    "\n",
    "X = random_feature_selection(X)\n",
    "print(\"Shape of X: \",X.shape, \"Shape of y: \",y.shape)"
   ]
  },
  {
   "cell_type": "markdown",
   "metadata": {
    "id": "t4u-qBe34wC9"
   },
   "source": [
    "We need to pre-process the data. We are using min-max scaler to scale the input data ($X$).\n",
    "\n",
    "After that, we split the data (```X``` and ```y```) into a training dataset (```X_train``` and ```y_train```) and test dataset (```X_test``` and ```y_test```)"
   ]
  },
  {
   "cell_type": "code",
   "execution_count": 67,
   "metadata": {
    "id": "YTO4etePa0i1"
   },
   "outputs": [
    {
     "name": "stdout",
     "output_type": "stream",
     "text": [
      "Shape of X_train:  (2857, 7) Shape of y_train:  (2857,)\n",
      "Shape of X_test:  (953, 7) Shape of y_test:  (953,)\n"
     ]
    }
   ],
   "source": [
    "## Data scaling and train-test split\n",
    "import numpy as np\n",
    "def train_test_split(X, y, test_size=0.25, random_state=None):\n",
    "    if random_state is not None:\n",
    "        np.random.seed(random_state)\n",
    "    indices = np.arange(X.shape[0])\n",
    "    np.random.shuffle(indices)\n",
    "\n",
    "    split_index = int(X.shape[0] * (1 - test_size))\n",
    "\n",
    "    train_indices = indices[:split_index]\n",
    "    test_indices = indices[split_index:]\n",
    "\n",
    "    X_train = X[train_indices]\n",
    "    X_test = X[test_indices]\n",
    "    y_train = y[train_indices]\n",
    "    y_test = y[test_indices]\n",
    "\n",
    "    return X_train, X_test, y_train, y_test\n",
    "\n",
    "def min_max_scaler(X, feature_range=(0, 1)):\n",
    "    X_min = np.min(X, axis=0)\n",
    "    X_max = np.max(X, axis=0)\n",
    "\n",
    "    X_scaled = (X-X_min)/(X_max-X_min)\n",
    "\n",
    "    return X_scaled\n",
    "\n",
    "# Feature normalization\n",
    "X = min_max_scaler(X)\n",
    "X_train, X_test, y_train, y_test = train_test_split(X, y, test_size=0.25, random_state=42)\n",
    "print(\"Shape of X_train: \",X_train.shape, \"Shape of y_train: \",y_train.shape)\n",
    "print(\"Shape of X_test: \",X_test.shape, \"Shape of y_test: \",y_test.shape)"
   ]
  },
  {
   "cell_type": "markdown",
   "metadata": {
    "id": "K8SbmjD945Ra"
   },
   "source": [
    "### 2.2. Creating the Sigmoid Function\n",
    "Recall that for logistic regression, the model is represented as\n",
    "\n",
    "$$ f_{\\mathbf{w},b}(x) = g(\\mathbf{w}\\cdot \\mathbf{x} + b)$$\n",
    "where function $g$ is the sigmoid function. The sigmoid function is defined as:\n",
    "\n",
    "$$g(z) = \\frac{1}{1+e^{-z}}$$\n",
    "\n",
    "\n",
    "The function below returns the value of the sigmoid function for an input numpy array z. If the numpy array 'z' stores multiple numbers, we'd like to apply the sigmoid function to each value in the input array"
   ]
  },
  {
   "cell_type": "code",
   "execution_count": 69,
   "metadata": {
    "id": "G44B1vITbBpE"
   },
   "outputs": [],
   "source": [
    "## CODE REQUIRED ##\n",
    "\n",
    "def sigmoid(z):\n",
    "    \"\"\"\n",
    "    Compute the sigmoid of z\n",
    "\n",
    "    Args:\n",
    "        z: A scalar or numpy array of any size.\n",
    "\n",
    "    Returns:\n",
    "        g: sigmoid(z)\n",
    "    \"\"\"\n",
    "    g = None\n",
    "    z = z.astype(float)\n",
    "    ### START CODE HERE ###\n",
    "\n",
    "    g = 1 / (1 + np.exp(-z))\n",
    "\n",
    "    ### END SOLUTION ###\n",
    "\n",
    "    return g"
   ]
  },
  {
   "cell_type": "markdown",
   "metadata": {
    "id": "kV-Ygf1R8HMl"
   },
   "source": [
    "### 2.3. Computing the loss Function\n",
    "\n",
    "Recall that for logistic regression, the cost function is of the form\n",
    "\n",
    "$$ J(\\mathbf{w},b) = \\frac{1}{m}\\sum_{i=0}^{m-1} \\left[ loss(f_{\\mathbf{w},b}(\\mathbf{x}^{(i)}), y^{(i)}) \\right] \\tag{1}$$\n",
    "\n",
    "where\n",
    "* m is the number of training examples in the dataset\n",
    "\n",
    "\n",
    "* $loss(f_{\\mathbf{w},b}(\\mathbf{x}^{(i)}), y^{(i)})$ is the cost for a single data point, which is -\n",
    "\n",
    "    $$loss(f_{\\mathbf{w},b}(\\mathbf{x}^{(i)}), y^{(i)}) = (-y^{(i)} \\log\\left(f_{\\mathbf{w},b}\\left( \\mathbf{x}^{(i)} \\right) \\right) - \\left( 1 - y^{(i)}\\right) \\log \\left( 1 - f_{\\mathbf{w},b}\\left( \\mathbf{x}^{(i)} \\right) \\right) \\tag{2}$$\n",
    "    \n",
    "    \n",
    "*  $f_{\\mathbf{w},b}(\\mathbf{x}^{(i)})$ is the model's prediction, while $y^{(i)}$, which is the actual label\n",
    "\n",
    "*  $f_{\\mathbf{w},b}(\\mathbf{x}^{(i)}) = g(\\mathbf{w} \\cdot \\mathbf{x^{(i)}} + b)$ where function $g$ is the sigmoid function.\n",
    "\n",
    "Please complete the function loss_function that takes\n",
    "\n",
    " **X**  (input features)\n",
    "\n",
    " **y**  (class labels)\n",
    "\n",
    " **w**  (Parameters of the logistic regression model, (excluding the bias), a numpy array of the shape(1, number of features))\n",
    "\n",
    " **b**  (Bias value of the logistic regression model)\n",
    "\n",
    " You can use the Sigmoid function that you implemented above."
   ]
  },
  {
   "cell_type": "code",
   "execution_count": 71,
   "metadata": {
    "id": "h9RVguhHbEVk"
   },
   "outputs": [],
   "source": [
    "## CODE REQUIRED ##\n",
    "\n",
    "def loss_function(X, y, w, b):\n",
    "    \"\"\"\n",
    "    Computes the loss function for all the training examples.\n",
    "    Args:\n",
    "        X: Input data of the shape (# of training samples, # of input features)\n",
    "        y: Target variable of the shape (# of training samples,)\n",
    "        w: Parameters of the logistic regression model (excluding the bias) of the shape (1, number of features)\n",
    "        b: Bias parameter (scalar) of the logistic regression model\n",
    "\n",
    "    Returns:\n",
    "        total_cost: The loss function value of using w and b as the parameters to fit the data points in X and y\n",
    "    \"\"\"\n",
    "    m, n = X.shape\n",
    "\n",
    "    total_cost = 0\n",
    "    ### START CODE HERE ###\n",
    "    for i in range(m):\n",
    "        z = np.dot(X[i], w) + b\n",
    "        val = sigmoid(z)\n",
    "        total_cost += (-y[i] * np.log(val)) - ((1 - y[i]) * np.log(1 - val))\n",
    "\n",
    "    total_cost /= m\n",
    "    ### END CODE HERE ###\n",
    "\n",
    "    return total_cost\n"
   ]
  },
  {
   "cell_type": "markdown",
   "metadata": {
    "id": "S9YmUPnsASYE"
   },
   "source": [
    "### 2.4. Computing the Gradient of the Loss\n",
    "\n",
    "Recall that the gradient descent algorithm is:\n",
    "\n",
    "$$\\begin{align*}& \\text{repeat until convergence:} \\; \\lbrace \\newline \\; & b := b -  \\alpha \\frac{\\partial J(\\mathbf{w},b)}{\\partial b} \\newline       \\; & w_j := w_j -  \\alpha \\frac{\\partial J(\\mathbf{w},b)}{\\partial w_j} \\tag{1}  \\; & \\text{for j := 0..n-1}\\newline & \\rbrace\\end{align*}$$\n",
    "\n",
    "where, parameters $b$, $w_j$ are all updated simultaniously\n",
    "\n",
    "In this step, you are required to complete the `compute_gradient_logistic_regression` function to compute $\\frac{\\partial J(\\mathbf{w},b)}{\\partial w}$, $\\frac{\\partial J(\\mathbf{w},b)}{\\partial b}$ from equations (2) and (3) below.\n",
    "\n",
    "$$\n",
    "\\frac{\\partial J(\\mathbf{w},b)}{\\partial b}  = \\frac{1}{m} \\sum\\limits_{i = 0}^{m-1} (f_{\\mathbf{w},b}(\\mathbf{x}^{(i)}) - \\mathbf{y}^{(i)}) \\tag{2}\n",
    "$$\n",
    "$$\n",
    "\\frac{\\partial J(\\mathbf{w},b)}{\\partial w_j}  = \\frac{1}{m} \\sum\\limits_{i = 0}^{m-1} (f_{\\mathbf{w},b}(\\mathbf{x}^{(i)}) - \\mathbf{y}^{(i)})x_{j}^{(i)} \\tag{3}\n",
    "$$\n",
    "* m is the number of training examples in the dataset\n",
    "\n",
    "    \n",
    "*  $f_{\\mathbf{w},b}(x^{(i)})$ is the model's prediction, while $y^{(i)}$ is the actual label\n",
    "\n",
    "You can use the sigmoid function that you implemented above."
   ]
  },
  {
   "cell_type": "code",
   "execution_count": 73,
   "metadata": {
    "id": "PWxbewKkbIB8"
   },
   "outputs": [],
   "source": [
    "## CODE REQUIRED ##\n",
    "\n",
    "def compute_gradient_logistic_regression(X, y, w, b):\n",
    "    \"\"\"\n",
    "    Computes the gradient values of the loss function\n",
    "    Args:\n",
    "       X: Input data of the shape (# of training samples, # of input features)\n",
    "       y: Target variable of the shape (# of training sample,)\n",
    "       w: Parameters of the logistic regression model (excluding the bias) of the shape (1, number of features)\n",
    "       b: Bias parameter of the logistic regression model of the shape (1,1) or a scaler\n",
    "    Returns:\n",
    "       dL_dw : The gradient of the cost w.r.t. the parameters w with shape same as w\n",
    "       dL_db : The gradient of the cost w.r.t. the parameter b with shape same as b\n",
    "    \"\"\"\n",
    "    m, n = X.shape\n",
    "    dj_dw = np.zeros(w.shape)\n",
    "    dj_db = 0.0\n",
    "\n",
    "    ### START CODE HERE ###\n",
    "    for i in range(m):\n",
    "        z = np.dot(X[i], w) + b\n",
    "        diff = sigmoid(z) - y[i]\n",
    "        for j in range(n):\n",
    "            dj_dw[j] += diff * X[i, j]\n",
    "        dj_db += diff\n",
    "\n",
    "    dj_dw /= m\n",
    "    dj_db /= m\n",
    "    ### END CODE HERE ###\n",
    "\n",
    "\n",
    "    return dj_db, dj_dw"
   ]
  },
  {
   "cell_type": "markdown",
   "metadata": {
    "id": "6ZMYX655MRFX"
   },
   "source": [
    "### 2.5. Training the model using Batch Gradient Descent\n",
    "\n",
    "Please complete the batch gradient descent algorithm for logistic regression to train and learn the parameters of the logistic regression model. You have to use ```loss_function``` and ```compute_gradient_logistic regression``` functions that you have implemented earlier in this assignment.\n",
    "\n",
    "In this ```batch_gradient_descent_logistic_regression``` function, you have to compute the gradient for the training samples and update the parameters $w$ and $b$ in every iteration:\n",
    "\n",
    "+ $w \\leftarrow w - \\alpha \\frac{\\partial L}{\\partial w}$\n",
    "\n",
    "+ $b \\leftarrow b - \\alpha \\frac{\\partial L}{\\partial b}$\n",
    "\n",
    "This function takes   ```X```    (input features),  ```y```  (class labels),  ```w_in```  (intial values of parameters(excluding bias)),  ```b_in```  (initial value for bias),  ```num_iters```   (number of iterations of training) as input.\n",
    "\n",
    "Additionally, you have compute the loss function values in every iteration and store it in the list variable ```loss_hist``` and print the loss value after every 100 iterations during the training process."
   ]
  },
  {
   "cell_type": "code",
   "execution_count": 75,
   "metadata": {
    "id": "JOi07RVNbL_7"
   },
   "outputs": [],
   "source": [
    "## CODE REQUIRED ##\n",
    "\n",
    "def batch_gradient_descent_logistic_regression(X, y, w_in, b_in, alpha, num_iters):\n",
    "    \"\"\"\n",
    "    Batch gradient descent to learn the parameters (w and b) of the linear regression model and to print loss values\n",
    "    every 100 iterations\n",
    "\n",
    "    Args:\n",
    "        X: Input data of the shape (# of training samples, # of input features)\n",
    "        y: Target variable of the shape (# of training sample,)\n",
    "        w_in: Initial parameters of the logistic regression model (excluding the bias) of the shape (1, number of features)\n",
    "        b_in: Initial bias parameter (scalar) of the logistic regression model\n",
    "        alpha: Learning rate\n",
    "        num_iters: number of iterations\n",
    "    Returns\n",
    "        w: Updated values of parameters of the model after training\n",
    "        b: Updated bias of the model after training\n",
    "        loss_hist: List of loss values for every iteration\n",
    "    \"\"\"\n",
    "\n",
    "    # number of training examples\n",
    "    m = len(X)\n",
    "\n",
    "    # list to store the loss values for every iterations\n",
    "    loss_hist = []\n",
    "\n",
    "    ### START CODE HERE ###\n",
    "    for i in range(1, num_iters + 1):\n",
    "        dj_db, dj_dw = compute_gradient_logistic_regression(X, y, w_in, b_in)\n",
    "        \n",
    "        w_in -= alpha * dj_dw\n",
    "        b_in -= alpha * dj_db\n",
    "        \n",
    "        loss = loss_function(X, y, w_in, b_in)\n",
    "        loss_hist.append(loss)\n",
    "\n",
    "        if (i % 100 == 0):\n",
    "            print(f\"Iteration: {i} Loss: {loss}\")\n",
    "    \n",
    "    ### END CODE HERE ###\n",
    "\n",
    "    return w_in, b_in, loss_hist"
   ]
  },
  {
   "cell_type": "markdown",
   "metadata": {
    "id": "3yeLdzT9-5Wc"
   },
   "source": [
    "Now you have to intialize the model parameters ($w$ and $b$) and learning rate (```alpha```). The learning rate ```alpha``` has to be randomly initialized between 0.01 and 0.09. To randomly initialize the learning rate, you have to first set the last two digits of your roll number as the random seed using ```random.seed()``` function."
   ]
  },
  {
   "cell_type": "code",
   "execution_count": 77,
   "metadata": {
    "id": "MIBltyJh-Tjk"
   },
   "outputs": [],
   "source": [
    "## CODE REQUIRED ##\n",
    "import numpy as np\n",
    "import random\n",
    "## set the last two digits of your roll number as the random seed\n",
    "random_seed = None\n",
    "### START CODE HERE ###\n",
    "random_seed = 88\n",
    "### END CODE HERE ###\n",
    "np.random.seed(random_seed)\n",
    "\n",
    "def initialize_parameters():\n",
    "    \"\"\"\n",
    "    This function randomly initializes the model parameters (w and b) and the hyperparameter alpha\n",
    "    Initial w and b should be randomly sampled from a normal distribution with mean 0\n",
    "    alpha should be randomly initialized between 0.01 and 0.09 by using last two digits of your roll number as the random seed\n",
    "    Args:\n",
    "        None\n",
    "    Returns:\n",
    "        initial_w: Initial parameters of the linear regression model (excluding the bias) of the shape (1, number of features)\n",
    "        initial_b: Initial bias parameter (scalar) of the linear regression model\n",
    "        alpha: Learning rate\n",
    "    \"\"\"\n",
    "\n",
    "    initial_w = None\n",
    "    initial_b = None\n",
    "    alpha = None\n",
    "\n",
    "    ### START CODE HERE ###\n",
    "    initial_w = np.random.random((X_train.shape[1], ))\n",
    "    initial_b = random.random()\n",
    "    alpha = random.uniform(0.01, 0.09)\n",
    "    ### END CODE HERE ###\n",
    "\n",
    "    return initial_w,initial_b,alpha"
   ]
  },
  {
   "cell_type": "markdown",
   "metadata": {
    "id": "KT5CbQ8dZS_J"
   },
   "source": [
    "The following cell runs the batch gradient algorithm for\n",
    "```num_iterations=1000``` to train the logistic regression model. You can change the number of iterations to check any improvements in the performance"
   ]
  },
  {
   "cell_type": "code",
   "execution_count": 79,
   "metadata": {
    "id": "KFTZi7pkbOdp"
   },
   "outputs": [
    {
     "name": "stdout",
     "output_type": "stream",
     "text": [
      "Iteration: 100 Loss: 0.7504846786121607\n",
      "Iteration: 200 Loss: 0.6742279566875372\n",
      "Iteration: 300 Loss: 0.6474614748005463\n",
      "Iteration: 400 Loss: 0.6242176763193615\n",
      "Iteration: 500 Loss: 0.6029676553728709\n",
      "Iteration: 600 Loss: 0.5834790094930415\n",
      "Iteration: 700 Loss: 0.5655718270349793\n",
      "Iteration: 800 Loss: 0.5490849507196102\n",
      "Iteration: 900 Loss: 0.5338741001778882\n",
      "Iteration: 1000 Loss: 0.5198105893765468\n",
      "optimized parameter values w: [-0.47494888 -1.00783951 -1.01714662  0.55759731  0.12331586 -0.44506594\n",
      "  0.94798415]\n",
      "optimized parameter value b: 0.6941623313386965\n"
     ]
    }
   ],
   "source": [
    "# initialize the parameters (w an b) randomly\n",
    "initial_w, initial_b, alpha = initialize_parameters()\n",
    "num_iterations = 1000\n",
    "\n",
    "w, b, loss_hist = batch_gradient_descent_logistic_regression(X_train ,y_train, initial_w, initial_b, alpha, num_iterations)\n",
    "print(\"optimized parameter values w:\", w)\n",
    "print(\"optimized parameter value b:\", b)"
   ]
  },
  {
   "cell_type": "markdown",
   "metadata": {
    "id": "pYP0-YUyY50x"
   },
   "source": [
    "### 2.6. Final Train and Test Accuracy\n",
    "After the logistic regression model is trained, we will predict the class labels for the training set and test set and we will compute the accuracy.\n",
    "\n",
    "Please complete the `predict` function to produce `1` or `0` predictions given a dataset and a learned parameter vector $w$ and $b$.\n",
    "- First you need to compute the prediction from the model $f(x^{(i)}) = g(w \\cdot x^{(i)})$ for every example\n",
    "\n",
    "- We interpret the output of the model ($f(x^{(i)})$) as the probability that $y^{(i)}=1$ given $x^{(i)}$ and parameterized by $w$.\n",
    "- Therefore, to get a final prediction ($y^{(i)}=0$ or $y^{(i)}=1$) from the logistic regression model, you can use the following heuristic -\n",
    "\n",
    "  if $f(x^{(i)}) >= 0.5$, predict $y^{(i)}=1$\n",
    "  \n",
    "  if $f(x^{(i)}) < 0.5$, predict $y^{(i)}=0$"
   ]
  },
  {
   "cell_type": "code",
   "execution_count": 81,
   "metadata": {
    "id": "mZDUV2iwbQ_R"
   },
   "outputs": [],
   "source": [
    "def predict(X, w, b):\n",
    "      \"\"\"\n",
    "      Predict whether the label is 0 or 1 using learned logistic regression parameters (w,b)\n",
    "\n",
    "      Args:\n",
    "        X: Input data of shape (number of sample, number of features)\n",
    "        w: Parameters of the logistic regression model (excluding the bias) of the shape (1, number of features)\n",
    "        b: Bias parameter of the logistic regression model\n",
    "\n",
    "      Returns:\n",
    "        p: Predictions for X using a threshold at 0.5\n",
    "      \"\"\"\n",
    "      m, n = X.shape\n",
    "      p = np.zeros(m)\n",
    "      ### START CODE HERE###\n",
    "      for i in range(m):\n",
    "           prob_val = sigmoid(np.dot(X[i], w) + b)\n",
    "           if prob_val >= 0.5 : \n",
    "               p[i] = 1\n",
    "           else : \n",
    "               p[i] = 0\n",
    "\n",
    "      ### END CODE HERE ###\n",
    "      return p"
   ]
  },
  {
   "cell_type": "markdown",
   "metadata": {
    "id": "zsrATkIy2KVy"
   },
   "source": [
    "Now let's use this to compute the accuracy on the training and test datasets"
   ]
  },
  {
   "cell_type": "code",
   "execution_count": 83,
   "metadata": {
    "id": "UMmh6WdFbU9Y"
   },
   "outputs": [
    {
     "name": "stdout",
     "output_type": "stream",
     "text": [
      "Train Accuracy: 88.379419\n",
      "Test Accuracy: 89.087093\n"
     ]
    }
   ],
   "source": [
    "p_train = predict(X_train, w,b)\n",
    "print('Train Accuracy: %f'%(np.mean(p_train == y_train) * 100))\n",
    "p_test = predict(X_test, w,b)\n",
    "print('Test Accuracy: %f'%(np.mean(p_test == y_test) * 100))"
   ]
  },
  {
   "cell_type": "markdown",
   "metadata": {
    "id": "B0VqjFy9ZK7D"
   },
   "source": [
    "Now, we plot the loss function values for every iteration."
   ]
  },
  {
   "cell_type": "code",
   "execution_count": 85,
   "metadata": {
    "id": "fkmP3XHMTW74"
   },
   "outputs": [
    {
     "data": {
      "image/png": "[encoded data removed]",
      "text/plain": [
       "<Figure size 640x480 with 1 Axes>"
      ]
     },
     "metadata": {},
     "output_type": "display_data"
    }
   ],
   "source": [
    "# PLotting the loss values for every training iterations\n",
    "\n",
    "loss_plot = [loss_hist[i] for i in range(len(loss_hist))]\n",
    "plt.xlabel(\"Iterations\")\n",
    "plt.ylabel(\"Loss function\")\n",
    "plt.plot(loss_plot)\n",
    "plt.show()"
   ]
  },
  {
   "cell_type": "markdown",
   "metadata": {
    "id": "JgKAU9RBEUlL"
   },
   "source": [
    "### 2.7 Experimenting with different values of the Hyperparemeters\n",
    "\n",
    "Previously, we randomly sampled the learning rate and the number of features to train the model. Now, you have to manually choose the number of features and the learning rate. Then, you have to train the model again on the manually choosen hyperparameters (number of features and learning rate). In the next cell, you have to manually choose the hyperparameters and write the code to train the model.\n",
    "\n",
    "After the model is trained, you have to compare the performance of the model with random chosen hyperparameters and the model **with** manually chosen hyperparameters."
   ]
  },
  {
   "cell_type": "code",
   "execution_count": 87,
   "metadata": {
    "id": "xMcc3cuvIbD_"
   },
   "outputs": [
    {
     "name": "stdout",
     "output_type": "stream",
     "text": [
      "Iteration: 100 Loss: 0.1845328834221738\n",
      "Iteration: 200 Loss: 0.18026393088439105\n",
      "Iteration: 300 Loss: 0.18003798795890238\n",
      "Iteration: 400 Loss: 0.17998447172352508\n",
      "Iteration: 500 Loss: 0.17995715365791048\n",
      "Iteration: 600 Loss: 0.1799376779942182\n",
      "Iteration: 700 Loss: 0.1799209055894431\n",
      "Iteration: 800 Loss: 0.17990510732607623\n",
      "Iteration: 900 Loss: 0.17988968089851742\n",
      "Iteration: 1000 Loss: 0.17987441408190705\n",
      "Train Accuracy: 93.139657\n",
      "Test Accuracy: 92.025184\n",
      "alpha:  12\n"
     ]
    }
   ],
   "source": [
    "## CODE REQUIRED ##\n",
    "\n",
    "\"\"\"\n",
    "Manually choose the hyperparameters (learning rate and number of features) and train the model.\n",
    "Then compare the performance with random chosen hyperparameters and manually chosen hyperparameters.\n",
    "\"\"\"\n",
    "\n",
    "### START CODE HERE ###\n",
    "filepath = 'Rice_Classification.csv'\n",
    "X_new, y_new = load_data(filepath)\n",
    "\n",
    "X_new = min_max_scaler(X_new)\n",
    "X_new_train, X_new_test, y_new_train, y_new_test = train_test_split(X_new, y_new, test_size=0.25, random_state=42)\n",
    "\n",
    "init_w_new = np.random.randn(X_new.shape[1])\n",
    "init_b_new = np.random.randn()\n",
    "\n",
    "num_iterations = 1000\n",
    "alpha_new = 12\n",
    "\n",
    "w, b, loss_hist = batch_gradient_descent_logistic_regression(X_new_train ,y_new_train, init_w_new, init_b_new, alpha_new, num_iterations)\n",
    "p_train = predict(X_new_train, w, b)\n",
    "print('Train Accuracy: %f'%(np.mean(p_train == y_train) * 100))\n",
    "p_test = predict(X_new_test, w, b)\n",
    "print('Test Accuracy: %f'%(np.mean(p_test == y_test) * 100))\n",
    "print('alpha: ', alpha_new)\n",
    "\n",
    "### END CODE HERE ###"
   ]
  },
  {
   "cell_type": "code",
   "execution_count": null,
   "metadata": {},
   "outputs": [],
   "source": []
  }
 ],
 "metadata": {
  "colab": {
   "provenance": []
  },
  "kernelspec": {
   "display_name": "Python 3 (ipykernel)",
   "language": "python",
   "name": "python3"
  },
  "language_info": {
   "codemirror_mode": {
    "name": "ipython",
    "version": 3
   },
   "file_extension": ".py",
   "mimetype": "text/x-python",
   "name": "python",
   "nbconvert_exporter": "python",
   "pygments_lexer": "ipython3",
   "version": "3.12.4"
  }
 },
 "nbformat": 4,
 "nbformat_minor": 4
}
